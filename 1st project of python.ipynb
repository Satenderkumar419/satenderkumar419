{
 "cells": [
  {
   "cell_type": "code",
   "execution_count": 1,
   "id": "6fb5b676",
   "metadata": {},
   "outputs": [],
   "source": [
    "s = \"this is my first python class and I am learNRING python string its function\""
   ]
  },
  {
   "cell_type": "code",
   "execution_count": 2,
   "id": "a89b42a5",
   "metadata": {},
   "outputs": [
    {
     "data": {
      "text/plain": [
       "'h   r tnlsnImeNNph rgtfco'"
      ]
     },
     "execution_count": 2,
     "metadata": {},
     "output_type": "execute_result"
    }
   ],
   "source": [
    "s[1:300:3]"
   ]
  },
  {
   "cell_type": "code",
   "execution_count": 3,
   "id": "4f958326",
   "metadata": {},
   "outputs": [
    {
     "data": {
      "text/plain": [
       "'noitcnuf sti gnirts nohtyp GNIRNrael ma I dna ssalc nohtyp tsrif ym si siht'"
      ]
     },
     "execution_count": 3,
     "metadata": {},
     "output_type": "execute_result"
    }
   ],
   "source": [
    "s[::-1]"
   ]
  },
  {
   "cell_type": "code",
   "execution_count": 13,
   "id": "11d680a8",
   "metadata": {},
   "outputs": [],
   "source": [
    "s = s.upper()"
   ]
  },
  {
   "cell_type": "code",
   "execution_count": 14,
   "id": "da8fb5c4",
   "metadata": {},
   "outputs": [
    {
     "data": {
      "text/plain": [
       "'THIS IS MY FIRST PYTHON CLASS AND I AM LEARNRING PYTHON STRING ITS FUNCTION'"
      ]
     },
     "execution_count": 14,
     "metadata": {},
     "output_type": "execute_result"
    }
   ],
   "source": [
    "s"
   ]
  },
  {
   "cell_type": "code",
   "execution_count": 15,
   "id": "d18de0a3",
   "metadata": {},
   "outputs": [
    {
     "data": {
      "text/plain": [
       "['THIS',\n",
       " 'IS',\n",
       " 'MY',\n",
       " 'FIRST',\n",
       " 'PYTHON',\n",
       " 'CLASS',\n",
       " 'AND',\n",
       " 'I',\n",
       " 'AM',\n",
       " 'LEARNRING',\n",
       " 'PYTHON',\n",
       " 'STRING',\n",
       " 'ITS',\n",
       " 'FUNCTION']"
      ]
     },
     "execution_count": 15,
     "metadata": {},
     "output_type": "execute_result"
    }
   ],
   "source": [
    "s.split()"
   ]
  },
  {
   "cell_type": "code",
   "execution_count": 20,
   "id": "23e22999",
   "metadata": {},
   "outputs": [],
   "source": [
    "s = s.lower()"
   ]
  },
  {
   "cell_type": "code",
   "execution_count": 21,
   "id": "d920d3df",
   "metadata": {},
   "outputs": [
    {
     "data": {
      "text/plain": [
       "'this is my first python class and i am learnring python string its function'"
      ]
     },
     "execution_count": 21,
     "metadata": {},
     "output_type": "execute_result"
    }
   ],
   "source": [
    "s"
   ]
  },
  {
   "cell_type": "code",
   "execution_count": 22,
   "id": "cc940f46",
   "metadata": {},
   "outputs": [
    {
     "data": {
      "text/plain": [
       "'This is my first python class and i am learnring python string its function'"
      ]
     },
     "execution_count": 22,
     "metadata": {},
     "output_type": "execute_result"
    }
   ],
   "source": [
    "s.capitalize()"
   ]
  },
  {
   "cell_type": "code",
   "execution_count": 23,
   "id": "5b8586ff",
   "metadata": {},
   "outputs": [
    {
     "data": {
      "text/plain": [
       "False"
      ]
     },
     "execution_count": 23,
     "metadata": {},
     "output_type": "execute_result"
    }
   ],
   "source": [
    "s.isalnum()  # Beasuse \"s\" value is string, \"s\" is not numerical, so gine False"
   ]
  },
  {
   "cell_type": "code",
   "execution_count": 24,
   "id": "d734902b",
   "metadata": {},
   "outputs": [],
   "source": [
    "s1 = \"4985264\""
   ]
  },
  {
   "cell_type": "code",
   "execution_count": 25,
   "id": "41f2f06d",
   "metadata": {},
   "outputs": [
    {
     "data": {
      "text/plain": [
       "True"
      ]
     },
     "execution_count": 25,
     "metadata": {},
     "output_type": "execute_result"
    }
   ],
   "source": [
    "s1.isalnum() # Here \"s1\" is numerical value so give True "
   ]
  },
  {
   "cell_type": "code",
   "execution_count": 26,
   "id": "14a7260b",
   "metadata": {},
   "outputs": [
    {
     "data": {
      "text/plain": [
       "False"
      ]
     },
     "execution_count": 26,
     "metadata": {},
     "output_type": "execute_result"
    }
   ],
   "source": [
    "s1.isalpha() # Here \"s1\" is numerical value so False "
   ]
  },
  {
   "cell_type": "code",
   "execution_count": 31,
   "id": "97740818",
   "metadata": {},
   "outputs": [],
   "source": [
    "s2 = \"satender\""
   ]
  },
  {
   "cell_type": "code",
   "execution_count": 32,
   "id": "1c57b37c",
   "metadata": {},
   "outputs": [
    {
     "data": {
      "text/plain": [
       "True"
      ]
     },
     "execution_count": 32,
     "metadata": {},
     "output_type": "execute_result"
    }
   ],
   "source": [
    "s2.isalpha()"
   ]
  },
  {
   "cell_type": "code",
   "execution_count": 35,
   "id": "a2cc7540",
   "metadata": {},
   "outputs": [],
   "source": [
    "s3 = 'satender\\tkumar\\ttake\\python\\tclass\\tlate'"
   ]
  },
  {
   "cell_type": "code",
   "execution_count": 36,
   "id": "f95e4b8b",
   "metadata": {},
   "outputs": [
    {
     "data": {
      "text/plain": [
       "'satender        kumar   take\\\\python     class   late'"
      ]
     },
     "execution_count": 36,
     "metadata": {},
     "output_type": "execute_result"
    }
   ],
   "source": [
    "s3.expandtabs()"
   ]
  },
  {
   "cell_type": "code",
   "execution_count": 37,
   "id": "5d7066e1",
   "metadata": {},
   "outputs": [],
   "source": [
    "s4 = 'satender\\tkumar\\ttake\\tpython\\tclass\\tlate'"
   ]
  },
  {
   "cell_type": "code",
   "execution_count": 38,
   "id": "9868188e",
   "metadata": {},
   "outputs": [
    {
     "data": {
      "text/plain": [
       "'satender        kumar   take    python  class   late'"
      ]
     },
     "execution_count": 38,
     "metadata": {},
     "output_type": "execute_result"
    }
   ],
   "source": [
    "s4.expandtabs()"
   ]
  },
  {
   "cell_type": "code",
   "execution_count": 39,
   "id": "60feab61",
   "metadata": {},
   "outputs": [],
   "source": [
    "a = \"  ineuron  bangalore  \""
   ]
  },
  {
   "cell_type": "code",
   "execution_count": 40,
   "id": "c0ea0dfa",
   "metadata": {},
   "outputs": [
    {
     "data": {
      "text/plain": [
       "'ineuron  bangalore'"
      ]
     },
     "execution_count": 40,
     "metadata": {},
     "output_type": "execute_result"
    }
   ],
   "source": [
    "a.strip()"
   ]
  },
  {
   "cell_type": "code",
   "execution_count": 41,
   "id": "9ebe2f72",
   "metadata": {},
   "outputs": [
    {
     "data": {
      "text/plain": [
       "'  ineuron  bangalore'"
      ]
     },
     "execution_count": 41,
     "metadata": {},
     "output_type": "execute_result"
    }
   ],
   "source": [
    "a.rstrip()"
   ]
  },
  {
   "cell_type": "code",
   "execution_count": 42,
   "id": "0bf88c36",
   "metadata": {},
   "outputs": [
    {
     "data": {
      "text/plain": [
       "'ineuron  bangalore  '"
      ]
     },
     "execution_count": 42,
     "metadata": {},
     "output_type": "execute_result"
    }
   ],
   "source": [
    "a.lstrip()"
   ]
  },
  {
   "cell_type": "code",
   "execution_count": 45,
   "id": "85c0645c",
   "metadata": {},
   "outputs": [
    {
     "data": {
      "text/plain": [
       "'vvvvvvvvvvkumarvvvvvvvvvv'"
      ]
     },
     "execution_count": 45,
     "metadata": {},
     "output_type": "execute_result"
    }
   ],
   "source": [
    "a1 = \"kumar\"\n",
    "\n",
    "a1.center(25, 'v')"
   ]
  },
  {
   "cell_type": "code",
   "execution_count": null,
   "id": "90fcf2ee",
   "metadata": {},
   "outputs": [],
   "source": []
  },
  {
   "cell_type": "code",
   "execution_count": null,
   "id": "54388cce",
   "metadata": {},
   "outputs": [],
   "source": []
  },
  {
   "cell_type": "code",
   "execution_count": null,
   "id": "9d2e0b5c",
   "metadata": {},
   "outputs": [],
   "source": []
  }
 ],
 "metadata": {
  "kernelspec": {
   "display_name": "Python 3 (ipykernel)",
   "language": "python",
   "name": "python3"
  },
  "language_info": {
   "codemirror_mode": {
    "name": "ipython",
    "version": 3
   },
   "file_extension": ".py",
   "mimetype": "text/x-python",
   "name": "python",
   "nbconvert_exporter": "python",
   "pygments_lexer": "ipython3",
   "version": "3.9.12"
  }
 },
 "nbformat": 4,
 "nbformat_minor": 5
}
